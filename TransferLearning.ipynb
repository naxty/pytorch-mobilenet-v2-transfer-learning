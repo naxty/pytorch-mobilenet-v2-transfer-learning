{
 "cells": [
  {
   "cell_type": "code",
   "execution_count": null,
   "metadata": {},
   "outputs": [],
   "source": [
    "!mkdir data"
   ]
  },
  {
   "cell_type": "markdown",
   "metadata": {},
   "source": [
    "## Download model and move to data/model"
   ]
  },
  {
   "cell_type": "code",
   "execution_count": null,
   "metadata": {},
   "outputs": [],
   "source": [
    "model_path = \"data/model/mobilenet_v2.pth.tar\""
   ]
  },
  {
   "cell_type": "markdown",
   "metadata": {},
   "source": [
    "## Load MobileNetV2"
   ]
  },
  {
   "cell_type": "code",
   "execution_count": null,
   "metadata": {},
   "outputs": [],
   "source": [
    "import torch\n",
    "from MobileNetV2 import MobileNetV2\n",
    "mobile_net = MobileNetV2(n_class=1000)\n",
    "state_dict = torch.load(model_path, map_location='cpu') # add map_location='cpu' if no gpu\n",
    "mobile_net.load_state_dict(state_dict)"
   ]
  },
  {
   "cell_type": "markdown",
   "metadata": {},
   "source": [
    "## Transfer Learning Prerequisites\n",
    "1. Change output layer\n",
    "2. Freeze weights\n",
    "\n",
    "The MobileNetV2 has two very important attributes *features* and *classifier*. \n",
    "- *features* defines everything in the neural network until (n-1)th layer. \n",
    "- *classifier* defines the output layer"
   ]
  },
  {
   "cell_type": "code",
   "execution_count": null,
   "metadata": {},
   "outputs": [],
   "source": [
    "mobile_net.classifier"
   ]
  },
  {
   "cell_type": "markdown",
   "metadata": {},
   "source": [
    "Through the output above we can see that the output layer has 1280 inputs and 1000 outputs. In order to apply transfer learning to a new dataset we need to reduce the outputs to the number of the categories in the new dataset."
   ]
  },
  {
   "cell_type": "code",
   "execution_count": null,
   "metadata": {},
   "outputs": [],
   "source": [
    "import torch.nn as nn\n",
    "n_class = 5\n",
    "new_classifier = nn.Sequential(\n",
    "    nn.Dropout(0.2),\n",
    "    nn.Linear(mobile_net.last_channel, n_class),\n",
    ")"
   ]
  },
  {
   "cell_type": "markdown",
   "metadata": {},
   "source": [
    "## Data download"
   ]
  },
  {
   "cell_type": "code",
   "execution_count": null,
   "metadata": {},
   "outputs": [],
   "source": [
    "import os\n",
    "from fastai.vision import *\n",
    "BASE_DATA = Path('data/images/')\n",
    "categories = [\"banana\", \"apple\", \"orange\"]"
   ]
  },
  {
   "cell_type": "code",
   "execution_count": null,
   "metadata": {},
   "outputs": [],
   "source": [
    "def return_files(category):\n",
    "    files = !ls {BASE_DATA}/c/*.{jpg,jpeg,png}\n",
    "    return files"
   ]
  },
  {
   "cell_type": "code",
   "execution_count": null,
   "metadata": {
    "scrolled": true
   },
   "outputs": [],
   "source": [
    "for c in categories:\n",
    "    f = c + \".csv\"\n",
    "    download_images(BASE_DATA / f, BASE_DATA/c, max_pics=300)\n",
    "\n",
    "    # try to open image - if fails, delete\n",
    "    verify_images(BASE_DATA/c, delete=True, max_size=400)"
   ]
  },
  {
   "cell_type": "code",
   "execution_count": null,
   "metadata": {},
   "outputs": [],
   "source": [
    "data = ImageDataBunch.from_folder(BASE_DATA, \n",
    "                                  train=\".\", \n",
    "                                  valid_pct=0.2,\n",
    "                                  ds_tfms=get_transforms(), \n",
    "                                  size=224, \n",
    "                                  num_workers=0).normalize(imagenet_stats)"
   ]
  },
  {
   "cell_type": "code",
   "execution_count": null,
   "metadata": {},
   "outputs": [],
   "source": [
    "data.show_batch(rows=4, figsize=(12,12))"
   ]
  },
  {
   "cell_type": "markdown",
   "metadata": {},
   "source": [
    "## Load Model"
   ]
  },
  {
   "cell_type": "code",
   "execution_count": null,
   "metadata": {},
   "outputs": [],
   "source": [
    "from transfer_model import TransferModel"
   ]
  },
  {
   "cell_type": "code",
   "execution_count": null,
   "metadata": {},
   "outputs": [],
   "source": [
    "n_classes = 3\n",
    "pretrained_weights = \"data/model/mobilenet_v2.pth.tar\"\n",
    "mobile_net = TransferModel(3, pretrained_weights)"
   ]
  },
  {
   "cell_type": "markdown",
   "metadata": {},
   "source": [
    "## Train model"
   ]
  },
  {
   "cell_type": "code",
   "execution_count": null,
   "metadata": {},
   "outputs": [],
   "source": [
    "learner = Learner(data, mobile_net)"
   ]
  },
  {
   "cell_type": "code",
   "execution_count": null,
   "metadata": {
    "scrolled": true
   },
   "outputs": [],
   "source": [
    "learner.fit_one_cycle(10)"
   ]
  },
  {
   "cell_type": "code",
   "execution_count": null,
   "metadata": {},
   "outputs": [],
   "source": [
    "interp = ClassificationInterpretation.from_learner(learner)"
   ]
  },
  {
   "cell_type": "code",
   "execution_count": null,
   "metadata": {},
   "outputs": [],
   "source": [
    "interp.plot_confusion_matrix()"
   ]
  },
  {
   "cell_type": "markdown",
   "metadata": {},
   "source": [
    "# Test images"
   ]
  },
  {
   "cell_type": "code",
   "execution_count": null,
   "metadata": {},
   "outputs": [],
   "source": [
    "img = open_image(\"apple_test.jpeg\")\n",
    "pred_class,pred_idx,outputs = learner.predict(img)\n",
    "print(pred_class, pred_idx, outputs)"
   ]
  },
  {
   "cell_type": "markdown",
   "metadata": {},
   "source": [
    "## Export"
   ]
  },
  {
   "cell_type": "code",
   "execution_count": null,
   "metadata": {},
   "outputs": [],
   "source": [
    "from torch.autograd import Variable\n",
    "import torch\n",
    "dummy_input = Variable(torch.randn(1, 3, 224, 224))\n",
    "# Export the trained model to ONNX\n",
    "torch.onnx.export(learner.model.cpu(), dummy_input, \"fruits.onnx\")"
   ]
  },
  {
   "cell_type": "code",
   "execution_count": null,
   "metadata": {},
   "outputs": [],
   "source": [
    "import onnx\n",
    "\n",
    "model = onnx.load(\"fruits.onnx\")"
   ]
  },
  {
   "cell_type": "markdown",
   "metadata": {},
   "source": [
    "# Convert Core ML"
   ]
  },
  {
   "cell_type": "code",
   "execution_count": null,
   "metadata": {},
   "outputs": [],
   "source": [
    "from onnx_coreml import convert\n",
    "\n",
    "\"\"\"\n",
    "IMAGE_NET_MEAN = [0.485, 0.456, 0.406]\n",
    "IMAGE_NET_STD = [0.229, 0.224, 0.225]\n",
    "\n",
    "\"\"\"\n",
    "\n",
    "scale = 1.0 / (0.226 * 255.0)\n",
    "args = dict(\n",
    "    is_bgr=False,\n",
    "    red_bias=-(0.485*1/0.229),\n",
    "    green_bias=-(0.456*1/0.224),\n",
    "    blue_bias=-(0.406*1/0.225),\n",
    "    image_scale = scale\n",
    ")\n",
    "mlmodel = convert(model, \n",
    "                  image_input_names=['0'], \n",
    "                  mode=\"classifier\", \n",
    "                  image_output_names=['0'], \n",
    "                  class_labels=[\"0\", \"1\", \"2\"],\n",
    "                 preprocessing_args=args)"
   ]
  },
  {
   "cell_type": "code",
   "execution_count": null,
   "metadata": {},
   "outputs": [],
   "source": [
    "from coremltools.models import MLModel\n",
    "\n",
    "spec = mlmodel.get_spec()\n",
    "new_mlmodel = MLModel(spec)\n",
    "new_mlmodel"
   ]
  },
  {
   "cell_type": "code",
   "execution_count": null,
   "metadata": {},
   "outputs": [],
   "source": [
    "new_mlmodel.save(\"fruits_new.mlmodel\")"
   ]
  }
 ],
 "metadata": {
  "kernelspec": {
   "display_name": "Python 3",
   "language": "python",
   "name": "python3"
  },
  "language_info": {
   "codemirror_mode": {
    "name": "ipython",
    "version": 3
   },
   "file_extension": ".py",
   "mimetype": "text/x-python",
   "name": "python",
   "nbconvert_exporter": "python",
   "pygments_lexer": "ipython3",
   "version": "3.6.7"
  }
 },
 "nbformat": 4,
 "nbformat_minor": 2
}
